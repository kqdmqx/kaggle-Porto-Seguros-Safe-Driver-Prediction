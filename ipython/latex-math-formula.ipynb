{
 "cells": [
  {
   "cell_type": "markdown",
   "metadata": {},
   "source": [
    "参考 http://www.cnblogs.com/GarfieldEr007/p/5577727.html"
   ]
  },
  {
   "cell_type": "markdown",
   "metadata": {},
   "source": [
    "# 上标和下标\n",
    "\n",
    "1. ^{上标}\n",
    "2. \\_{下标}\n",
    "3. 单个字符可不用花括号\n",
    "\n",
    "$$x_1$$\n",
    "\n",
    "$$x_1^2$$\n",
    "\n",
    "$$x^2_1$$\n",
    "\n",
    "$$x^2+y^2=z^2$$\n",
    "\n",
    "$$x_{22}^{(n)}$$"
   ]
  },
  {
   "cell_type": "markdown",
   "metadata": {},
   "source": [
    "# 分式\n",
    "\n",
    "1 直接使用反斜杠 /\n",
    "\n",
    "$$x/y$$\n",
    "\n",
    "$$(x+y)/2$$\n",
    "\n",
    "\n",
    "2 使用命令\\frac{分子}{分母}\n",
    "\n",
    "$$\\frac{x}{y}$$\n",
    "\n",
    "$$\\frac{x + y}{x - y}$$\n",
    "\n",
    "$$\\frac{1}{2+\\frac{3}{4}}$$"
   ]
  },
  {
   "cell_type": "markdown",
   "metadata": {},
   "source": [
    "# 根式\n",
    "\n",
    "1. 开平方 \\sqrt{表达式}\n",
    "2. 开n次方 \\sqrt[n]{表达式}\n",
    "3. 最后两条中间p的位置有区别\n",
    "\n",
    "$$\\sqrt{x+y}$$\n",
    "\n",
    "$$\\sqrt[3]{1+\\sqrt{2}}$$\n",
    "\n",
    "$$\\sqrt{1+\\sqrt[p]{1+a^2}}$$\n",
    "\n",
    "$$\\sqrt{1+\\sqrt[^p\\!]{1+a^2}}$$\n",
    "\n"
   ]
  },
  {
   "cell_type": "markdown",
   "metadata": {},
   "source": [
    "# 求和和积分\n",
    "\n",
    "1. 求和\\sum\n",
    "2. 积分\\int\n",
    "3. 上下限，是上标和下标\n",
    "4. 最后一个\\matrh让dx变成直体\n",
    "\n",
    "$$\\sum_x^yz$$\n",
    "\n",
    "$$\\sum_{k=1}^n\\frac{1}{k}$$\n",
    "\n",
    "$$\\int f(x) dx$$\n",
    "\n",
    "$$\\int_a^b f(x) dx$$\n",
    "\n",
    "$$\\int_a^b f(x)\\mathrm{d}x$$"
   ]
  },
  {
   "cell_type": "markdown",
   "metadata": {},
   "source": [
    "# 空格\n",
    "\n",
    "1. 紧贴 $a\\!b$\n",
    "\n",
    "2. 没有空格 $ab$\n",
    "\n",
    "3. 小空格 $a\\,b$\n",
    "\n",
    "4. 中等空格 $a\\;b$\n",
    "\n",
    "5. 大空格 $a\\ b$\n",
    "\n",
    "6. quad空格 $a\\quad b$\n",
    "\n",
    "7. 两个quad空格 $a\\qquad b$\n",
    "\n",
    "8. 美化空格\n",
    "\n",
    "$$\\int_a^b f(x)\\mathrm{d}x$$\n",
    "\n",
    "$$\\int_a^b f(x)\\,\\mathrm{d}x$$"
   ]
  },
  {
   "cell_type": "markdown",
   "metadata": {},
   "source": [
    "# 定界符（括号啥的）\n",
    "\n",
    "$($    %(\n",
    "\n",
    "$)$    %)\n",
    "\n",
    "$[$    %[\n",
    "\n",
    "$]$    %]\n",
    "\n",
    "$\\{$    %{\n",
    "\n",
    "$\\}$    %}\n",
    "\n",
    "$|$    %|\n",
    "\n",
    "$\\|$    %||\n",
    "\n",
    "* 缩放，\\left \\right\n",
    "\n",
    "$$\\left(\\sum_{k=\\frac{1}{2}}^{N^2}\\frac{1}{k}\\right)$$"
   ]
  },
  {
   "cell_type": "markdown",
   "metadata": {},
   "source": [
    "# 矩阵\n",
    "\n",
    "* 对于少于 10 列的矩阵，可使用 matrix，pmatrix，bmatrix，Bmatrix，vmatrix 和 Vmatrix 等环境。\n",
    "\n",
    "$$\\begin{matrix}1 & 2\\\\3 &4\\end{matrix}$$\n",
    "\n",
    "$$\\begin{pmatrix}1 & 2\\\\3 &4\\end{pmatrix}$$\n",
    "\n",
    "$$\\begin{bmatrix}1 & 2\\\\3 &4\\end{bmatrix}$$\n",
    "\n",
    "$$\\begin{Bmatrix}1 & 2\\\\3 &4\\end{Bmatrix}$$\n",
    "\n",
    "$$\\begin{vmatrix}1 & 2\\\\3 &4\\end{vmatrix}$$\n",
    "\n",
    "$$\\begin{Vmatrix}1 & 2\\\\3 &4\\end{Vmatrix}$$"
   ]
  },
  {
   "cell_type": "markdown",
   "metadata": {},
   "source": [
    "# 排版数组\n",
    "\n",
    "* 当矩阵规模超过 10 列，或者上述矩阵类型不敷需求，可使用 array 环境。该环境可把一些元素排列成横竖都对齐的矩形阵列。\n",
    "\n",
    "$$\n",
    "\\mathbf{X} =\n",
    "\\left( \\begin{array}{ccc}\n",
    "x_{11} & x_{12} & \\ldots \\\\\n",
    "x_{21} & x_{22} & \\ldots \\\\\n",
    "\\vdots & \\vdots & \\ddots\n",
    "\\end{array} \\right)\n",
    "$$\n",
    "\n",
    "* \\mathbf大写控制符，\\\\表示换行，{ccc}表示列样式。array 环境也可以用来排版这样的表达式，表达式中使用一个“.” 作为其隐藏的\\right 定界符。\n",
    "\n",
    "$$\n",
    "y = \\left\\{ \\begin{array}{ll}\n",
    "a & \\textrm{if $d>c$}\\\\\n",
    "b+x & \\textrm{in the morning}\\\\\n",
    "l & \\textrm{all day long}\n",
    "\\end{array} \\right.\n",
    "$$\n",
    "\n",
    "* 你也可以在array 环境中画线，如分隔矩阵中元素。\n",
    "\n",
    "$$\n",
    "\\left(\\begin{array}{c|c}\n",
    "1 & 2 \\\\\n",
    "\\hline\n",
    "3 & 4\n",
    "\\end{array}\\right)\n",
    "$$"
   ]
  }
 ],
 "metadata": {
  "anaconda-cloud": {},
  "kernelspec": {
   "display_name": "Python [conda env:python3]",
   "language": "python",
   "name": "conda-env-python3-py"
  },
  "language_info": {
   "codemirror_mode": {
    "name": "ipython",
    "version": 3
   },
   "file_extension": ".py",
   "mimetype": "text/x-python",
   "name": "python",
   "nbconvert_exporter": "python",
   "pygments_lexer": "ipython3",
   "version": "3.6.1"
  },
  "toc": {
   "nav_menu": {
    "height": "156px",
    "width": "252px"
   },
   "navigate_menu": true,
   "number_sections": true,
   "sideBar": true,
   "threshold": 4,
   "toc_cell": false,
   "toc_section_display": "block",
   "toc_window_display": false
  }
 },
 "nbformat": 4,
 "nbformat_minor": 1
}
